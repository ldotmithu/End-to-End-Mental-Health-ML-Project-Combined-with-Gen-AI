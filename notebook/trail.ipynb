{
 "cells": [
  {
   "cell_type": "code",
   "execution_count": 165,
   "metadata": {},
   "outputs": [],
   "source": [
    "import pandas as pd \n",
    "import numpy as np \n",
    "import matplotlib.pyplot as plt \n",
    "import seaborn as sns"
   ]
  },
  {
   "cell_type": "code",
   "execution_count": 166,
   "metadata": {},
   "outputs": [
    {
     "data": {
      "text/html": [
       "<div>\n",
       "<style scoped>\n",
       "    .dataframe tbody tr th:only-of-type {\n",
       "        vertical-align: middle;\n",
       "    }\n",
       "\n",
       "    .dataframe tbody tr th {\n",
       "        vertical-align: top;\n",
       "    }\n",
       "\n",
       "    .dataframe thead th {\n",
       "        text-align: right;\n",
       "    }\n",
       "</style>\n",
       "<table border=\"1\" class=\"dataframe\">\n",
       "  <thead>\n",
       "    <tr style=\"text-align: right;\">\n",
       "      <th></th>\n",
       "      <th>Age</th>\n",
       "      <th>SystolicBP</th>\n",
       "      <th>DiastolicBP</th>\n",
       "      <th>BS</th>\n",
       "      <th>BodyTemp</th>\n",
       "      <th>HeartRate</th>\n",
       "      <th>RiskLevel</th>\n",
       "    </tr>\n",
       "  </thead>\n",
       "  <tbody>\n",
       "    <tr>\n",
       "      <th>0</th>\n",
       "      <td>25</td>\n",
       "      <td>130</td>\n",
       "      <td>80</td>\n",
       "      <td>15.0</td>\n",
       "      <td>98.0</td>\n",
       "      <td>86</td>\n",
       "      <td>high risk</td>\n",
       "    </tr>\n",
       "    <tr>\n",
       "      <th>1</th>\n",
       "      <td>35</td>\n",
       "      <td>140</td>\n",
       "      <td>90</td>\n",
       "      <td>13.0</td>\n",
       "      <td>98.0</td>\n",
       "      <td>70</td>\n",
       "      <td>high risk</td>\n",
       "    </tr>\n",
       "    <tr>\n",
       "      <th>2</th>\n",
       "      <td>29</td>\n",
       "      <td>90</td>\n",
       "      <td>70</td>\n",
       "      <td>8.0</td>\n",
       "      <td>100.0</td>\n",
       "      <td>80</td>\n",
       "      <td>high risk</td>\n",
       "    </tr>\n",
       "    <tr>\n",
       "      <th>3</th>\n",
       "      <td>30</td>\n",
       "      <td>140</td>\n",
       "      <td>85</td>\n",
       "      <td>7.0</td>\n",
       "      <td>98.0</td>\n",
       "      <td>70</td>\n",
       "      <td>high risk</td>\n",
       "    </tr>\n",
       "    <tr>\n",
       "      <th>4</th>\n",
       "      <td>35</td>\n",
       "      <td>120</td>\n",
       "      <td>60</td>\n",
       "      <td>6.1</td>\n",
       "      <td>98.0</td>\n",
       "      <td>76</td>\n",
       "      <td>low risk</td>\n",
       "    </tr>\n",
       "  </tbody>\n",
       "</table>\n",
       "</div>"
      ],
      "text/plain": [
       "   Age  SystolicBP  DiastolicBP    BS  BodyTemp  HeartRate  RiskLevel\n",
       "0   25         130           80  15.0      98.0         86  high risk\n",
       "1   35         140           90  13.0      98.0         70  high risk\n",
       "2   29          90           70   8.0     100.0         80  high risk\n",
       "3   30         140           85   7.0      98.0         70  high risk\n",
       "4   35         120           60   6.1      98.0         76   low risk"
      ]
     },
     "execution_count": 166,
     "metadata": {},
     "output_type": "execute_result"
    }
   ],
   "source": [
    "data = pd.read_csv(\"Maternal Health Risk Data Set.xls\")\n",
    "data.head()"
   ]
  },
  {
   "cell_type": "code",
   "execution_count": 167,
   "metadata": {},
   "outputs": [
    {
     "data": {
      "text/plain": [
       "Age            0\n",
       "SystolicBP     0\n",
       "DiastolicBP    0\n",
       "BS             0\n",
       "BodyTemp       0\n",
       "HeartRate      0\n",
       "RiskLevel      0\n",
       "dtype: int64"
      ]
     },
     "execution_count": 167,
     "metadata": {},
     "output_type": "execute_result"
    }
   ],
   "source": [
    "data.isnull().sum()"
   ]
  },
  {
   "cell_type": "code",
   "execution_count": 168,
   "metadata": {},
   "outputs": [
    {
     "name": "stdout",
     "output_type": "stream",
     "text": [
      "<class 'pandas.core.frame.DataFrame'>\n",
      "RangeIndex: 1014 entries, 0 to 1013\n",
      "Data columns (total 7 columns):\n",
      " #   Column       Non-Null Count  Dtype  \n",
      "---  ------       --------------  -----  \n",
      " 0   Age          1014 non-null   int64  \n",
      " 1   SystolicBP   1014 non-null   int64  \n",
      " 2   DiastolicBP  1014 non-null   int64  \n",
      " 3   BS           1014 non-null   float64\n",
      " 4   BodyTemp     1014 non-null   float64\n",
      " 5   HeartRate    1014 non-null   int64  \n",
      " 6   RiskLevel    1014 non-null   object \n",
      "dtypes: float64(2), int64(4), object(1)\n",
      "memory usage: 55.6+ KB\n"
     ]
    }
   ],
   "source": [
    "data.info()"
   ]
  },
  {
   "cell_type": "code",
   "execution_count": 169,
   "metadata": {},
   "outputs": [
    {
     "data": {
      "text/html": [
       "<div>\n",
       "<style scoped>\n",
       "    .dataframe tbody tr th:only-of-type {\n",
       "        vertical-align: middle;\n",
       "    }\n",
       "\n",
       "    .dataframe tbody tr th {\n",
       "        vertical-align: top;\n",
       "    }\n",
       "\n",
       "    .dataframe thead th {\n",
       "        text-align: right;\n",
       "    }\n",
       "</style>\n",
       "<table border=\"1\" class=\"dataframe\">\n",
       "  <thead>\n",
       "    <tr style=\"text-align: right;\">\n",
       "      <th></th>\n",
       "      <th>Age</th>\n",
       "      <th>SystolicBP</th>\n",
       "      <th>DiastolicBP</th>\n",
       "      <th>BS</th>\n",
       "      <th>BodyTemp</th>\n",
       "      <th>HeartRate</th>\n",
       "    </tr>\n",
       "  </thead>\n",
       "  <tbody>\n",
       "    <tr>\n",
       "      <th>count</th>\n",
       "      <td>1014.000000</td>\n",
       "      <td>1014.000000</td>\n",
       "      <td>1014.000000</td>\n",
       "      <td>1014.000000</td>\n",
       "      <td>1014.000000</td>\n",
       "      <td>1014.000000</td>\n",
       "    </tr>\n",
       "    <tr>\n",
       "      <th>mean</th>\n",
       "      <td>29.871795</td>\n",
       "      <td>113.198225</td>\n",
       "      <td>76.460552</td>\n",
       "      <td>8.725986</td>\n",
       "      <td>98.665089</td>\n",
       "      <td>74.301775</td>\n",
       "    </tr>\n",
       "    <tr>\n",
       "      <th>std</th>\n",
       "      <td>13.474386</td>\n",
       "      <td>18.403913</td>\n",
       "      <td>13.885796</td>\n",
       "      <td>3.293532</td>\n",
       "      <td>1.371384</td>\n",
       "      <td>8.088702</td>\n",
       "    </tr>\n",
       "    <tr>\n",
       "      <th>min</th>\n",
       "      <td>10.000000</td>\n",
       "      <td>70.000000</td>\n",
       "      <td>49.000000</td>\n",
       "      <td>6.000000</td>\n",
       "      <td>98.000000</td>\n",
       "      <td>7.000000</td>\n",
       "    </tr>\n",
       "    <tr>\n",
       "      <th>25%</th>\n",
       "      <td>19.000000</td>\n",
       "      <td>100.000000</td>\n",
       "      <td>65.000000</td>\n",
       "      <td>6.900000</td>\n",
       "      <td>98.000000</td>\n",
       "      <td>70.000000</td>\n",
       "    </tr>\n",
       "    <tr>\n",
       "      <th>50%</th>\n",
       "      <td>26.000000</td>\n",
       "      <td>120.000000</td>\n",
       "      <td>80.000000</td>\n",
       "      <td>7.500000</td>\n",
       "      <td>98.000000</td>\n",
       "      <td>76.000000</td>\n",
       "    </tr>\n",
       "    <tr>\n",
       "      <th>75%</th>\n",
       "      <td>39.000000</td>\n",
       "      <td>120.000000</td>\n",
       "      <td>90.000000</td>\n",
       "      <td>8.000000</td>\n",
       "      <td>98.000000</td>\n",
       "      <td>80.000000</td>\n",
       "    </tr>\n",
       "    <tr>\n",
       "      <th>max</th>\n",
       "      <td>70.000000</td>\n",
       "      <td>160.000000</td>\n",
       "      <td>100.000000</td>\n",
       "      <td>19.000000</td>\n",
       "      <td>103.000000</td>\n",
       "      <td>90.000000</td>\n",
       "    </tr>\n",
       "  </tbody>\n",
       "</table>\n",
       "</div>"
      ],
      "text/plain": [
       "               Age   SystolicBP  DiastolicBP           BS     BodyTemp  \\\n",
       "count  1014.000000  1014.000000  1014.000000  1014.000000  1014.000000   \n",
       "mean     29.871795   113.198225    76.460552     8.725986    98.665089   \n",
       "std      13.474386    18.403913    13.885796     3.293532     1.371384   \n",
       "min      10.000000    70.000000    49.000000     6.000000    98.000000   \n",
       "25%      19.000000   100.000000    65.000000     6.900000    98.000000   \n",
       "50%      26.000000   120.000000    80.000000     7.500000    98.000000   \n",
       "75%      39.000000   120.000000    90.000000     8.000000    98.000000   \n",
       "max      70.000000   160.000000   100.000000    19.000000   103.000000   \n",
       "\n",
       "         HeartRate  \n",
       "count  1014.000000  \n",
       "mean     74.301775  \n",
       "std       8.088702  \n",
       "min       7.000000  \n",
       "25%      70.000000  \n",
       "50%      76.000000  \n",
       "75%      80.000000  \n",
       "max      90.000000  "
      ]
     },
     "execution_count": 169,
     "metadata": {},
     "output_type": "execute_result"
    }
   ],
   "source": [
    "data.describe()"
   ]
  },
  {
   "cell_type": "code",
   "execution_count": 170,
   "metadata": {},
   "outputs": [
    {
     "data": {
      "text/plain": [
       "Index(['Age', 'SystolicBP', 'DiastolicBP', 'BS', 'BodyTemp', 'HeartRate',\n",
       "       'RiskLevel'],\n",
       "      dtype='object')"
      ]
     },
     "execution_count": 170,
     "metadata": {},
     "output_type": "execute_result"
    }
   ],
   "source": [
    "data.columns"
   ]
  },
  {
   "cell_type": "code",
   "execution_count": 171,
   "metadata": {},
   "outputs": [
    {
     "name": "stdout",
     "output_type": "stream",
     "text": [
      "Age :  50\n",
      "SystolicBP :  19\n",
      "DiastolicBP :  16\n",
      "BS :  29\n",
      "BodyTemp :  8\n",
      "HeartRate :  16\n",
      "RiskLevel :  3\n"
     ]
    }
   ],
   "source": [
    "for col in data.columns:\n",
    "    print(f\"{col } :  {data[col].nunique()}\")"
   ]
  },
  {
   "cell_type": "code",
   "execution_count": 172,
   "metadata": {},
   "outputs": [
    {
     "name": "stdout",
     "output_type": "stream",
     "text": [
      "Age :  [25 35 29 30 23 32 42 19 20 48 15 50 10 40 21 18 16 22 49 28 12 60 55 45\n",
      " 31 17 26 54 44 33 13 34 38 39 63 14 37 51 62 43 65 66 56 70 27 36 59 24\n",
      " 41 46]\n",
      "/n\n",
      "SystolicBP :  [130 140  90 120  85 110  70 100  75  95  76  80 115 135 160 129  83  99\n",
      "  78]\n",
      "/n\n",
      "DiastolicBP :  [ 80  90  70  85  60  89  75 100  50  65  95  49  63  69  76  68]\n",
      "/n\n",
      "BS :  [15.   13.    8.    7.    6.1   7.01 11.    6.9  18.    6.7   7.5   7.2\n",
      "  7.1   6.4   9.    6.    7.7  12.   16.    7.8   6.8   7.9  17.   19.\n",
      " 10.    6.3   6.6   6.5   7.6 ]\n",
      "/n\n",
      "BodyTemp :  [ 98.  100.  102.  101.  103.   98.4  99.   98.6]\n",
      "/n\n",
      "HeartRate :  [86 70 80 76 78 77 88 90 66 82 60 75 67 65 68  7]\n",
      "/n\n",
      "RiskLevel :  ['high risk' 'low risk' 'mid risk']\n",
      "/n\n"
     ]
    }
   ],
   "source": [
    "for col in data.columns:\n",
    "    print(f\"{col } :  {data[col].unique()}\")\n",
    "    print(\"/n\")"
   ]
  },
  {
   "cell_type": "code",
   "execution_count": 173,
   "metadata": {},
   "outputs": [
    {
     "data": {
      "text/plain": [
       "['Age', 'SystolicBP', 'DiastolicBP', 'BS', 'BodyTemp', 'HeartRate']"
      ]
     },
     "execution_count": 173,
     "metadata": {},
     "output_type": "execute_result"
    }
   ],
   "source": [
    "num_col = [feature for feature in data.columns if data[feature].dtype !=\"O\"]\n",
    "num_col"
   ]
  },
  {
   "cell_type": "code",
   "execution_count": 174,
   "metadata": {},
   "outputs": [
    {
     "data": {
      "text/plain": [
       "['RiskLevel']"
      ]
     },
     "execution_count": 174,
     "metadata": {},
     "output_type": "execute_result"
    }
   ],
   "source": [
    "cat_col = [feature for feature in data.columns if data[feature].dtype ==\"O\"]\n",
    "cat_col"
   ]
  },
  {
   "cell_type": "code",
   "execution_count": 175,
   "metadata": {},
   "outputs": [
    {
     "data": {
      "text/plain": [
       "<Axes: xlabel='RiskLevel'>"
      ]
     },
     "execution_count": 175,
     "metadata": {},
     "output_type": "execute_result"
    },
    {
     "data": {
      "image/png": "[encoded data removed]",
      "text/plain": [
       "<Figure size 640x480 with 1 Axes>"
      ]
     },
     "metadata": {},
     "output_type": "display_data"
    }
   ],
   "source": [
    "data['RiskLevel'].value_counts().plot(kind=\"bar\")"
   ]
  },
  {
   "cell_type": "code",
   "execution_count": 176,
   "metadata": {},
   "outputs": [
    {
     "data": {
      "text/plain": [
       "array(['high risk', 'low risk', 'mid risk'], dtype=object)"
      ]
     },
     "execution_count": 176,
     "metadata": {},
     "output_type": "execute_result"
    }
   ],
   "source": [
    "data['RiskLevel'].unique()"
   ]
  },
  {
   "cell_type": "code",
   "execution_count": 177,
   "metadata": {},
   "outputs": [],
   "source": [
    "data['RiskLevel'] = np.where(data['RiskLevel']==\"high risk\",2,\n",
    "                             np.where(data['RiskLevel']==\"mid risk\",1,0))"
   ]
  },
  {
   "cell_type": "code",
   "execution_count": 178,
   "metadata": {},
   "outputs": [
    {
     "data": {
      "text/html": [
       "<div>\n",
       "<style scoped>\n",
       "    .dataframe tbody tr th:only-of-type {\n",
       "        vertical-align: middle;\n",
       "    }\n",
       "\n",
       "    .dataframe tbody tr th {\n",
       "        vertical-align: top;\n",
       "    }\n",
       "\n",
       "    .dataframe thead th {\n",
       "        text-align: right;\n",
       "    }\n",
       "</style>\n",
       "<table border=\"1\" class=\"dataframe\">\n",
       "  <thead>\n",
       "    <tr style=\"text-align: right;\">\n",
       "      <th></th>\n",
       "      <th>Age</th>\n",
       "      <th>SystolicBP</th>\n",
       "      <th>DiastolicBP</th>\n",
       "      <th>BS</th>\n",
       "      <th>BodyTemp</th>\n",
       "      <th>HeartRate</th>\n",
       "      <th>RiskLevel</th>\n",
       "    </tr>\n",
       "  </thead>\n",
       "  <tbody>\n",
       "    <tr>\n",
       "      <th>0</th>\n",
       "      <td>25</td>\n",
       "      <td>130</td>\n",
       "      <td>80</td>\n",
       "      <td>15.0</td>\n",
       "      <td>98.0</td>\n",
       "      <td>86</td>\n",
       "      <td>2</td>\n",
       "    </tr>\n",
       "    <tr>\n",
       "      <th>1</th>\n",
       "      <td>35</td>\n",
       "      <td>140</td>\n",
       "      <td>90</td>\n",
       "      <td>13.0</td>\n",
       "      <td>98.0</td>\n",
       "      <td>70</td>\n",
       "      <td>2</td>\n",
       "    </tr>\n",
       "    <tr>\n",
       "      <th>2</th>\n",
       "      <td>29</td>\n",
       "      <td>90</td>\n",
       "      <td>70</td>\n",
       "      <td>8.0</td>\n",
       "      <td>100.0</td>\n",
       "      <td>80</td>\n",
       "      <td>2</td>\n",
       "    </tr>\n",
       "    <tr>\n",
       "      <th>3</th>\n",
       "      <td>30</td>\n",
       "      <td>140</td>\n",
       "      <td>85</td>\n",
       "      <td>7.0</td>\n",
       "      <td>98.0</td>\n",
       "      <td>70</td>\n",
       "      <td>2</td>\n",
       "    </tr>\n",
       "    <tr>\n",
       "      <th>4</th>\n",
       "      <td>35</td>\n",
       "      <td>120</td>\n",
       "      <td>60</td>\n",
       "      <td>6.1</td>\n",
       "      <td>98.0</td>\n",
       "      <td>76</td>\n",
       "      <td>0</td>\n",
       "    </tr>\n",
       "  </tbody>\n",
       "</table>\n",
       "</div>"
      ],
      "text/plain": [
       "   Age  SystolicBP  DiastolicBP    BS  BodyTemp  HeartRate  RiskLevel\n",
       "0   25         130           80  15.0      98.0         86          2\n",
       "1   35         140           90  13.0      98.0         70          2\n",
       "2   29          90           70   8.0     100.0         80          2\n",
       "3   30         140           85   7.0      98.0         70          2\n",
       "4   35         120           60   6.1      98.0         76          0"
      ]
     },
     "execution_count": 178,
     "metadata": {},
     "output_type": "execute_result"
    }
   ],
   "source": [
    "data.head()"
   ]
  },
  {
   "cell_type": "code",
   "execution_count": 179,
   "metadata": {},
   "outputs": [],
   "source": [
    "from scipy.stats import pearsonr\n",
    "\n",
    "reject_null = []\n",
    "fail_to_reject = []\n",
    "\n",
    "for col in num_col:\n",
    "    _,p_value = pearsonr(data[col],data[\"RiskLevel\"])\n",
    "    if p_value < 0.05:\n",
    "        reject_null.append(col)\n",
    "    else:\n",
    "        fail_to_reject.append(col)\n",
    "        \n",
    "            "
   ]
  },
  {
   "cell_type": "code",
   "execution_count": 180,
   "metadata": {},
   "outputs": [
    {
     "data": {
      "text/plain": [
       "['Age', 'SystolicBP', 'DiastolicBP', 'BS', 'BodyTemp', 'HeartRate']"
      ]
     },
     "execution_count": 180,
     "metadata": {},
     "output_type": "execute_result"
    }
   ],
   "source": [
    "reject_null"
   ]
  },
  {
   "cell_type": "code",
   "execution_count": 181,
   "metadata": {},
   "outputs": [
    {
     "data": {
      "text/plain": [
       "[]"
      ]
     },
     "execution_count": 181,
     "metadata": {},
     "output_type": "execute_result"
    }
   ],
   "source": [
    "fail_to_reject"
   ]
  },
  {
   "cell_type": "code",
   "execution_count": 182,
   "metadata": {},
   "outputs": [
    {
     "data": {
      "image/png": "[encoded data removed]",
      "text/plain": [
       "<Figure size 640x480 with 1 Axes>"
      ]
     },
     "metadata": {},
     "output_type": "display_data"
    },
    {
     "data": {
      "image/png": "[encoded data removed]",
      "text/plain": [
       "<Figure size 640x480 with 1 Axes>"
      ]
     },
     "metadata": {},
     "output_type": "display_data"
    },
    {
     "data": {
      "image/png": "[encoded data removed]",
      "text/plain": [
       "<Figure size 640x480 with 1 Axes>"
      ]
     },
     "metadata": {},
     "output_type": "display_data"
    },
    {
     "data": {
      "image/png": "[encoded data removed]",
      "text/plain": [
       "<Figure size 640x480 with 1 Axes>"
      ]
     },
     "metadata": {},
     "output_type": "display_data"
    },
    {
     "data": {
      "image/png": "[encoded data removed]",
      "text/plain": [
       "<Figure size 640x480 with 1 Axes>"
      ]
     },
     "metadata": {},
     "output_type": "display_data"
    },
    {
     "data": {
      "image/png": "[encoded data removed]",
      "text/plain": [
       "<Figure size 640x480 with 1 Axes>"
      ]
     },
     "metadata": {},
     "output_type": "display_data"
    }
   ],
   "source": [
    "for col in num_col:\n",
    "    sns.boxplot(data,x=col,fill=True)\n",
    "    plt.show()\n",
    "    "
   ]
  },
  {
   "cell_type": "code",
   "execution_count": 183,
   "metadata": {},
   "outputs": [
    {
     "data": {
      "text/plain": [
       "(1014, 7)"
      ]
     },
     "execution_count": 183,
     "metadata": {},
     "output_type": "execute_result"
    }
   ],
   "source": [
    "data.shape"
   ]
  },
  {
   "cell_type": "code",
   "execution_count": 184,
   "metadata": {},
   "outputs": [],
   "source": [
    "def remove_out(data,col):\n",
    "    Q1 = np.percentile(data[col],25)\n",
    "    Q3 = np.percentile(data[col],75)\n",
    "    IQR = Q3-Q1\n",
    "    lower = Q1 - 1.5 * IQR\n",
    "    upper = Q3 +1.5 *IQR\n",
    "    data = data[(data[col] > lower) & (data[col] < upper)]\n",
    "    print(data.shape)\n",
    "    return data"
   ]
  },
  {
   "cell_type": "code",
   "execution_count": 185,
   "metadata": {},
   "outputs": [
    {
     "data": {
      "text/plain": [
       "['Age', 'SystolicBP', 'DiastolicBP', 'BS', 'BodyTemp', 'HeartRate']"
      ]
     },
     "execution_count": 185,
     "metadata": {},
     "output_type": "execute_result"
    }
   ],
   "source": [
    "num_col"
   ]
  },
  {
   "cell_type": "code",
   "execution_count": 186,
   "metadata": {},
   "outputs": [],
   "source": [
    "num_col = ['Age', 'SystolicBP', 'DiastolicBP', 'BS', 'BodyTemp', 'HeartRate']"
   ]
  },
  {
   "cell_type": "code",
   "execution_count": 187,
   "metadata": {},
   "outputs": [
    {
     "name": "stdout",
     "output_type": "stream",
     "text": [
      "(1013, 7)\n"
     ]
    }
   ],
   "source": [
    "data = remove_out(data,'Age')"
   ]
  },
  {
   "cell_type": "code",
   "execution_count": 188,
   "metadata": {},
   "outputs": [
    {
     "name": "stdout",
     "output_type": "stream",
     "text": [
      "(996, 7)\n"
     ]
    }
   ],
   "source": [
    "data = remove_out(data,'SystolicBP')"
   ]
  },
  {
   "cell_type": "code",
   "execution_count": 189,
   "metadata": {},
   "outputs": [
    {
     "name": "stdout",
     "output_type": "stream",
     "text": [
      "(796, 7)\n"
     ]
    }
   ],
   "source": [
    "data = remove_out(data,'BS')"
   ]
  },
  {
   "cell_type": "code",
   "execution_count": 190,
   "metadata": {},
   "outputs": [
    {
     "name": "stdout",
     "output_type": "stream",
     "text": [
      "(794, 7)\n"
     ]
    }
   ],
   "source": [
    "data = remove_out(data,'HeartRate')"
   ]
  },
  {
   "cell_type": "code",
   "execution_count": 191,
   "metadata": {},
   "outputs": [
    {
     "data": {
      "image/png": "[encoded data removed]",
      "text/plain": [
       "<Figure size 640x480 with 1 Axes>"
      ]
     },
     "metadata": {},
     "output_type": "display_data"
    },
    {
     "data": {
      "image/png": "[encoded data removed]",
      "text/plain": [
       "<Figure size 640x480 with 1 Axes>"
      ]
     },
     "metadata": {},
     "output_type": "display_data"
    },
    {
     "data": {
      "image/png": "[encoded data removed]",
      "text/plain": [
       "<Figure size 640x480 with 1 Axes>"
      ]
     },
     "metadata": {},
     "output_type": "display_data"
    },
    {
     "data": {
      "image/png": "[encoded data removed]",
      "text/plain": [
       "<Figure size 640x480 with 1 Axes>"
      ]
     },
     "metadata": {},
     "output_type": "display_data"
    },
    {
     "data": {
      "image/png": "[encoded data removed]",
      "text/plain": [
       "<Figure size 640x480 with 1 Axes>"
      ]
     },
     "metadata": {},
     "output_type": "display_data"
    },
    {
     "data": {
      "image/png": "[encoded data removed]",
      "text/plain": [
       "<Figure size 640x480 with 1 Axes>"
      ]
     },
     "metadata": {},
     "output_type": "display_data"
    }
   ],
   "source": [
    "for i in num_col:\n",
    "    sns.kdeplot(data,x=i,fill=True)\n",
    "    plt.show()"
   ]
  },
  {
   "cell_type": "code",
   "execution_count": 192,
   "metadata": {},
   "outputs": [
    {
     "name": "stdout",
     "output_type": "stream",
     "text": [
      "Age skew value 1.318856262406932\n",
      "SystolicBP skew value -0.28640033519750785\n",
      "DiastolicBP skew value 0.08970338930158192\n",
      "BS skew value 0.48179851942038177\n",
      "BodyTemp skew value 1.6155526947527477\n",
      "HeartRate skew value -0.02154000414446766\n"
     ]
    }
   ],
   "source": [
    "for i in num_col:\n",
    "    print(f\"{i} skew value {data[i].skew()}\")"
   ]
  },
  {
   "cell_type": "code",
   "execution_count": 193,
   "metadata": {},
   "outputs": [],
   "source": [
    "power_col = [\"Age\", \"BodyTemp\"]"
   ]
  },
  {
   "cell_type": "code",
   "execution_count": 194,
   "metadata": {},
   "outputs": [
    {
     "data": {
      "image/png": "[encoded data removed]",
      "text/plain": [
       "<Figure size 640x480 with 1 Axes>"
      ]
     },
     "metadata": {},
     "output_type": "display_data"
    },
    {
     "data": {
      "image/png": "[encoded data removed]",
      "text/plain": [
       "<Figure size 640x480 with 1 Axes>"
      ]
     },
     "metadata": {},
     "output_type": "display_data"
    },
    {
     "data": {
      "image/png": "[encoded data removed]",
      "text/plain": [
       "<Figure size 640x480 with 1 Axes>"
      ]
     },
     "metadata": {},
     "output_type": "display_data"
    },
    {
     "data": {
      "image/png": "[encoded data removed]",
      "text/plain": [
       "<Figure size 640x480 with 1 Axes>"
      ]
     },
     "metadata": {},
     "output_type": "display_data"
    },
    {
     "data": {
      "image/png": "[encoded data removed]",
      "text/plain": [
       "<Figure size 640x480 with 1 Axes>"
      ]
     },
     "metadata": {},
     "output_type": "display_data"
    },
    {
     "data": {
      "image/png": "[encoded data removed]",
      "text/plain": [
       "<Figure size 640x480 with 1 Axes>"
      ]
     },
     "metadata": {},
     "output_type": "display_data"
    }
   ],
   "source": [
    "for i in num_col:\n",
    "    sns.histplot(data,x=i)\n",
    "    plt.show()"
   ]
  },
  {
   "cell_type": "code",
   "execution_count": 195,
   "metadata": {},
   "outputs": [],
   "source": [
    "from sklearn.preprocessing import OneHotEncoder,StandardScaler,PowerTransformer\n",
    "from sklearn.compose import ColumnTransformer\n",
    "from sklearn.pipeline import Pipeline"
   ]
  },
  {
   "cell_type": "code",
   "execution_count": 196,
   "metadata": {},
   "outputs": [],
   "source": [
    "num_pipeline = Pipeline([\n",
    "    (\"num_pipeline\",StandardScaler())\n",
    "])\n",
    "\n",
    "power_pipeline = Pipeline([\n",
    "    ('power_pipeline',PowerTransformer(method=\"yeo-johnson\"))\n",
    "])\n",
    "\n",
    "preprocessor = ColumnTransformer([\n",
    "    (\"power\",power_pipeline,power_col),\n",
    "    (\"num\",num_pipeline,num_col)\n",
    "])"
   ]
  },
  {
   "cell_type": "code",
   "execution_count": 197,
   "metadata": {},
   "outputs": [
    {
     "data": {
      "text/plain": [
       "Index(['Age', 'SystolicBP', 'DiastolicBP', 'BS', 'BodyTemp', 'HeartRate',\n",
       "       'RiskLevel'],\n",
       "      dtype='object')"
      ]
     },
     "execution_count": 197,
     "metadata": {},
     "output_type": "execute_result"
    }
   ],
   "source": [
    "data.columns"
   ]
  },
  {
   "cell_type": "code",
   "execution_count": 198,
   "metadata": {},
   "outputs": [],
   "source": [
    "X = data.drop(columns=\"RiskLevel\",axis=1)\n",
    "y = data['RiskLevel']"
   ]
  },
  {
   "cell_type": "code",
   "execution_count": 199,
   "metadata": {},
   "outputs": [
    {
     "data": {
      "text/html": [
       "<div>\n",
       "<style scoped>\n",
       "    .dataframe tbody tr th:only-of-type {\n",
       "        vertical-align: middle;\n",
       "    }\n",
       "\n",
       "    .dataframe tbody tr th {\n",
       "        vertical-align: top;\n",
       "    }\n",
       "\n",
       "    .dataframe thead th {\n",
       "        text-align: right;\n",
       "    }\n",
       "</style>\n",
       "<table border=\"1\" class=\"dataframe\">\n",
       "  <thead>\n",
       "    <tr style=\"text-align: right;\">\n",
       "      <th></th>\n",
       "      <th>Age</th>\n",
       "      <th>SystolicBP</th>\n",
       "      <th>DiastolicBP</th>\n",
       "      <th>BS</th>\n",
       "      <th>BodyTemp</th>\n",
       "      <th>HeartRate</th>\n",
       "    </tr>\n",
       "  </thead>\n",
       "  <tbody>\n",
       "    <tr>\n",
       "      <th>2</th>\n",
       "      <td>29</td>\n",
       "      <td>90</td>\n",
       "      <td>70</td>\n",
       "      <td>8.0</td>\n",
       "      <td>100.0</td>\n",
       "      <td>80</td>\n",
       "    </tr>\n",
       "  </tbody>\n",
       "</table>\n",
       "</div>"
      ],
      "text/plain": [
       "   Age  SystolicBP  DiastolicBP   BS  BodyTemp  HeartRate\n",
       "2   29          90           70  8.0     100.0         80"
      ]
     },
     "execution_count": 199,
     "metadata": {},
     "output_type": "execute_result"
    }
   ],
   "source": [
    "X.head(1)"
   ]
  },
  {
   "cell_type": "code",
   "execution_count": 200,
   "metadata": {},
   "outputs": [
    {
     "data": {
      "text/plain": [
       "2       2\n",
       "3       2\n",
       "4       0\n",
       "5       2\n",
       "6       1\n",
       "       ..\n",
       "1004    2\n",
       "1005    2\n",
       "1006    2\n",
       "1007    2\n",
       "1013    1\n",
       "Name: RiskLevel, Length: 794, dtype: int32"
      ]
     },
     "execution_count": 200,
     "metadata": {},
     "output_type": "execute_result"
    }
   ],
   "source": [
    "y"
   ]
  },
  {
   "cell_type": "code",
   "execution_count": 201,
   "metadata": {},
   "outputs": [],
   "source": [
    "from sklearn.model_selection import  train_test_split\n",
    "X_train, X_test, y_train, y_test = train_test_split(X,y,test_size=0.2,random_state=42)"
   ]
  },
  {
   "cell_type": "code",
   "execution_count": 202,
   "metadata": {},
   "outputs": [],
   "source": [
    "X_train = preprocessor.fit_transform(X_train)\n",
    "X_test = preprocessor.transform(X_test)"
   ]
  },
  {
   "cell_type": "code",
   "execution_count": 203,
   "metadata": {},
   "outputs": [],
   "source": [
    "from imblearn.combine import SMOTETomek, SMOTEENN\n",
    "smt = SMOTEENN(random_state=42,sampling_strategy='auto' )\n",
    "X_train_re,y_train_re = smt.fit_resample(X_train, y_train)"
   ]
  },
  {
   "cell_type": "code",
   "execution_count": 204,
   "metadata": {},
   "outputs": [
    {
     "name": "stdout",
     "output_type": "stream",
     "text": [
      "Model: Random Forest\n",
      "Training Performance:\n",
      "- Accuracy: 1.0000\n",
      "- F1 score: 1.0000\n",
      "- Precision: 1.0000\n",
      "- Recall: 1.0000\n",
      "- ROC AUC Score: 1.0000\n",
      "----------------------------------\n",
      "Test Performance:\n",
      "- Accuracy: 0.9832\n",
      "- F1 score: 0.9833\n",
      "- Precision: 0.9840\n",
      "- Recall: 0.9832\n",
      "- ROC AUC Score: 0.9995\n",
      "===================================\n",
      "Model: Decision Tree\n",
      "Training Performance:\n",
      "- Accuracy: 1.0000\n",
      "- F1 score: 1.0000\n",
      "- Precision: 1.0000\n",
      "- Recall: 1.0000\n",
      "- ROC AUC Score: 1.0000\n",
      "----------------------------------\n",
      "Test Performance:\n",
      "- Accuracy: 0.9664\n",
      "- F1 score: 0.9664\n",
      "- Precision: 0.9666\n",
      "- Recall: 0.9664\n",
      "- ROC AUC Score: 0.9747\n",
      "===================================\n",
      "Model: Gradient Boosting\n",
      "Training Performance:\n",
      "- Accuracy: 0.9915\n",
      "- F1 score: 0.9916\n",
      "- Precision: 0.9916\n",
      "- Recall: 0.9915\n",
      "- ROC AUC Score: 1.0000\n",
      "----------------------------------\n",
      "Test Performance:\n",
      "- Accuracy: 0.9832\n",
      "- F1 score: 0.9832\n",
      "- Precision: 0.9832\n",
      "- Recall: 0.9832\n",
      "- ROC AUC Score: 0.9971\n",
      "===================================\n",
      "Model: Logistic Regression\n",
      "Training Performance:\n",
      "- Accuracy: 0.6702\n",
      "- F1 score: 0.6525\n",
      "- Precision: 0.6509\n",
      "- Recall: 0.6702\n",
      "- ROC AUC Score: 0.8547\n",
      "----------------------------------\n",
      "Test Performance:\n",
      "- Accuracy: 0.6134\n",
      "- F1 score: 0.6011\n",
      "- Precision: 0.6016\n",
      "- Recall: 0.6134\n",
      "- ROC AUC Score: 0.7934\n",
      "===================================\n",
      "Model: K-Neighbors Classifier\n",
      "Training Performance:\n",
      "- Accuracy: 0.9746\n",
      "- F1 score: 0.9747\n",
      "- Precision: 0.9749\n",
      "- Recall: 0.9746\n",
      "- ROC AUC Score: 0.9982\n",
      "----------------------------------\n",
      "Test Performance:\n",
      "- Accuracy: 0.9160\n",
      "- F1 score: 0.9162\n",
      "- Precision: 0.9177\n",
      "- Recall: 0.9160\n",
      "- ROC AUC Score: 0.9872\n",
      "===================================\n",
      "Model: XGBClassifier\n",
      "Training Performance:\n",
      "- Accuracy: 1.0000\n",
      "- F1 score: 1.0000\n",
      "- Precision: 1.0000\n",
      "- Recall: 1.0000\n",
      "- ROC AUC Score: 1.0000\n",
      "----------------------------------\n",
      "Test Performance:\n",
      "- Accuracy: 0.9832\n",
      "- F1 score: 0.9833\n",
      "- Precision: 0.9840\n",
      "- Recall: 0.9832\n",
      "- ROC AUC Score: 1.0000\n",
      "===================================\n",
      "Model: Support Vector Classifier\n",
      "Training Performance:\n",
      "- Accuracy: 0.8710\n",
      "- F1 score: 0.8699\n",
      "- Precision: 0.8781\n",
      "- Recall: 0.8710\n",
      "- ROC AUC Score: 0.9744\n",
      "----------------------------------\n",
      "Test Performance:\n",
      "- Accuracy: 0.8655\n",
      "- F1 score: 0.8636\n",
      "- Precision: 0.8769\n",
      "- Recall: 0.8655\n",
      "- ROC AUC Score: 0.9553\n",
      "===================================\n",
      "Model: AdaBoost Classifier\n",
      "Training Performance:\n",
      "- Accuracy: 0.8330\n",
      "- F1 score: 0.8319\n",
      "- Precision: 0.8310\n",
      "- Recall: 0.8330\n",
      "- ROC AUC Score: 0.9503\n",
      "----------------------------------\n",
      "Test Performance:\n",
      "- Accuracy: 0.7647\n",
      "- F1 score: 0.7637\n",
      "- Precision: 0.7638\n",
      "- Recall: 0.7647\n",
      "- ROC AUC Score: 0.9078\n",
      "===================================\n",
      "                  Model Name  Accuracy   ROC AUC\n",
      "0              Random Forest  0.983193  0.999546\n",
      "2          Gradient Boosting  0.983193  0.997068\n",
      "5              XGBClassifier  0.983193  1.000000\n",
      "1              Decision Tree  0.966387  0.974675\n",
      "4     K-Neighbors Classifier  0.915966  0.987237\n",
      "6  Support Vector Classifier  0.865546  0.955304\n",
      "7        AdaBoost Classifier  0.764706  0.907792\n",
      "3        Logistic Regression  0.613445  0.793369\n"
     ]
    }
   ],
   "source": [
    "import numpy as np\n",
    "import pandas as pd\n",
    "from sklearn.metrics import accuracy_score, f1_score, precision_score, recall_score, roc_auc_score\n",
    "from sklearn.model_selection import train_test_split\n",
    "from sklearn.ensemble import RandomForestClassifier, GradientBoostingClassifier, AdaBoostClassifier\n",
    "from sklearn.tree import DecisionTreeClassifier\n",
    "from sklearn.linear_model import LogisticRegression\n",
    "from sklearn.neighbors import KNeighborsClassifier\n",
    "from xgboost import XGBClassifier\n",
    "from sklearn.svm import SVC\n",
    "\n",
    "# Function to evaluate classification models\n",
    "def evaluate_clf(true, predicted, predicted_proba, is_multiclass):\n",
    "    acc = accuracy_score(true, predicted)  \n",
    "    f1 = f1_score(true, predicted, average=\"weighted\")  \n",
    "    precision = precision_score(true, predicted, average=\"weighted\")\n",
    "    recall = recall_score(true, predicted, average=\"weighted\")  \n",
    "    \n",
    "    # Adjust roc_auc calculation based on the number of classes\n",
    "    if is_multiclass:\n",
    "        roc_auc = roc_auc_score(true, predicted_proba, multi_class=\"ovr\", average=\"weighted\")  \n",
    "    else:\n",
    "        roc_auc = roc_auc_score(true, predicted_proba[:, 1])  \n",
    "\n",
    "    return acc, f1, precision, recall, roc_auc\n",
    "\n",
    "# Define models\n",
    "models = {\n",
    "    \"Random Forest\": RandomForestClassifier(),\n",
    "    \"Decision Tree\": DecisionTreeClassifier(),\n",
    "    \"Gradient Boosting\": GradientBoostingClassifier(),\n",
    "    \"Logistic Regression\": LogisticRegression(),\n",
    "    \"K-Neighbors Classifier\": KNeighborsClassifier(),\n",
    "    \"XGBClassifier\": XGBClassifier(),\n",
    "    \"Support Vector Classifier\": SVC(probability=True),\n",
    "    \"AdaBoost Classifier\": AdaBoostClassifier()\n",
    "}\n",
    "\n",
    "# Function to evaluate multiple models\n",
    "def evaluate_models(X, y, models):\n",
    "    '''\n",
    "    This function takes in X, y, and a dictionary of models.\n",
    "    It splits the data into a train-test split.\n",
    "    Iterates through the models, evaluates them, and returns a DataFrame with the results.\n",
    "    '''\n",
    "    # Split dataset\n",
    "    X_train, X_test, y_train, y_test = train_test_split(X, y, test_size=0.2, random_state=42)\n",
    "    \n",
    "    model_names = []\n",
    "    accuracy_list = []\n",
    "    auc_list = []\n",
    "    \n",
    "    is_multiclass = len(np.unique(y)) > 2  # Check if the target is multiclass\n",
    "    \n",
    "    for model_name, model in models.items():\n",
    "        model.fit(X_train, y_train)  # Train model\n",
    "\n",
    "        # Make predictions\n",
    "        y_train_pred = model.predict(X_train)\n",
    "        y_test_pred = model.predict(X_test)\n",
    "\n",
    "        # Get probability scores\n",
    "        y_train_proba = model.predict_proba(X_train) if hasattr(model, \"predict_proba\") else None\n",
    "        y_test_proba = model.predict_proba(X_test) if hasattr(model, \"predict_proba\") else None\n",
    "\n",
    "        # Training set performance\n",
    "        model_train_accuracy, model_train_f1, model_train_precision, model_train_recall, model_train_rocauc = \\\n",
    "            evaluate_clf(y_train, y_train_pred, y_train_proba, is_multiclass)\n",
    "\n",
    "        # Test set performance\n",
    "        model_test_accuracy, model_test_f1, model_test_precision, model_test_recall, model_test_rocauc = \\\n",
    "            evaluate_clf(y_test, y_test_pred, y_test_proba, is_multiclass)\n",
    "\n",
    "        print(f\"Model: {model_name}\")\n",
    "        model_names.append(model_name)\n",
    "\n",
    "        print('Training Performance:')\n",
    "        print(f\"- Accuracy: {model_train_accuracy:.4f}\")\n",
    "        print(f\"- F1 score: {model_train_f1:.4f}\") \n",
    "        print(f\"- Precision: {model_train_precision:.4f}\")\n",
    "        print(f\"- Recall: {model_train_recall:.4f}\")\n",
    "        print(f\"- ROC AUC Score: {model_train_rocauc:.4f}\")\n",
    "\n",
    "        print('----------------------------------')\n",
    "\n",
    "        print('Test Performance:')\n",
    "        print(f\"- Accuracy: {model_test_accuracy:.4f}\")\n",
    "        accuracy_list.append(model_test_accuracy)\n",
    "        print(f\"- F1 score: {model_test_f1:.4f}\")\n",
    "        print(f\"- Precision: {model_test_precision:.4f}\")\n",
    "        print(f\"- Recall: {model_test_recall:.4f}\")\n",
    "        print(f\"- ROC AUC Score: {model_test_rocauc:.4f}\")\n",
    "        auc_list.append(model_test_rocauc)\n",
    "        print(\"=\" * 35)\n",
    "    \n",
    "    report = pd.DataFrame(list(zip(model_names, accuracy_list, auc_list)), columns=['Model Name', 'Accuracy', 'ROC AUC'])\n",
    "    return report.sort_values(by=['Accuracy'], ascending=False)\n",
    "\n",
    "# Example usage\n",
    "# Assuming X_train_re and y_train_re are defined\n",
    "base_model_report = evaluate_models(X=X_train_re, y=y_train_re, models=models)\n",
    "print(base_model_report)\n"
   ]
  },
  {
   "cell_type": "code",
   "execution_count": 205,
   "metadata": {},
   "outputs": [
    {
     "data": {
      "text/html": [
       "<div>\n",
       "<style scoped>\n",
       "    .dataframe tbody tr th:only-of-type {\n",
       "        vertical-align: middle;\n",
       "    }\n",
       "\n",
       "    .dataframe tbody tr th {\n",
       "        vertical-align: top;\n",
       "    }\n",
       "\n",
       "    .dataframe thead th {\n",
       "        text-align: right;\n",
       "    }\n",
       "</style>\n",
       "<table border=\"1\" class=\"dataframe\">\n",
       "  <thead>\n",
       "    <tr style=\"text-align: right;\">\n",
       "      <th></th>\n",
       "      <th>Model Name</th>\n",
       "      <th>Accuracy</th>\n",
       "      <th>ROC AUC</th>\n",
       "    </tr>\n",
       "  </thead>\n",
       "  <tbody>\n",
       "    <tr>\n",
       "      <th>0</th>\n",
       "      <td>Random Forest</td>\n",
       "      <td>0.983193</td>\n",
       "      <td>0.999546</td>\n",
       "    </tr>\n",
       "    <tr>\n",
       "      <th>2</th>\n",
       "      <td>Gradient Boosting</td>\n",
       "      <td>0.983193</td>\n",
       "      <td>0.997068</td>\n",
       "    </tr>\n",
       "    <tr>\n",
       "      <th>5</th>\n",
       "      <td>XGBClassifier</td>\n",
       "      <td>0.983193</td>\n",
       "      <td>1.000000</td>\n",
       "    </tr>\n",
       "    <tr>\n",
       "      <th>1</th>\n",
       "      <td>Decision Tree</td>\n",
       "      <td>0.966387</td>\n",
       "      <td>0.974675</td>\n",
       "    </tr>\n",
       "    <tr>\n",
       "      <th>4</th>\n",
       "      <td>K-Neighbors Classifier</td>\n",
       "      <td>0.915966</td>\n",
       "      <td>0.987237</td>\n",
       "    </tr>\n",
       "    <tr>\n",
       "      <th>6</th>\n",
       "      <td>Support Vector Classifier</td>\n",
       "      <td>0.865546</td>\n",
       "      <td>0.955304</td>\n",
       "    </tr>\n",
       "    <tr>\n",
       "      <th>7</th>\n",
       "      <td>AdaBoost Classifier</td>\n",
       "      <td>0.764706</td>\n",
       "      <td>0.907792</td>\n",
       "    </tr>\n",
       "    <tr>\n",
       "      <th>3</th>\n",
       "      <td>Logistic Regression</td>\n",
       "      <td>0.613445</td>\n",
       "      <td>0.793369</td>\n",
       "    </tr>\n",
       "  </tbody>\n",
       "</table>\n",
       "</div>"
      ],
      "text/plain": [
       "                  Model Name  Accuracy   ROC AUC\n",
       "0              Random Forest  0.983193  0.999546\n",
       "2          Gradient Boosting  0.983193  0.997068\n",
       "5              XGBClassifier  0.983193  1.000000\n",
       "1              Decision Tree  0.966387  0.974675\n",
       "4     K-Neighbors Classifier  0.915966  0.987237\n",
       "6  Support Vector Classifier  0.865546  0.955304\n",
       "7        AdaBoost Classifier  0.764706  0.907792\n",
       "3        Logistic Regression  0.613445  0.793369"
      ]
     },
     "execution_count": 205,
     "metadata": {},
     "output_type": "execute_result"
    }
   ],
   "source": [
    "base_model_report"
   ]
  },
  {
   "cell_type": "code",
   "execution_count": 206,
   "metadata": {},
   "outputs": [],
   "source": [
    "#Initialize few parameter for Hyperparamter tuning\n",
    "xgboost_params = {\n",
    "    'max_depth':range(3,10,2),\n",
    "    'min_child_weight':range(1,6,2)\n",
    "}\n",
    "\n",
    "rf_params = {\n",
    "    \"max_depth\": [10, 12, None, 15, 20],\n",
    "    \"max_features\": ['sqrt', 'log2', None],\n",
    "    \"n_estimators\": [10, 50, 100, 200]\n",
    "}\n",
    "\n",
    "knn_params = {\n",
    "    \"algorithm\": ['auto', 'ball_tree', 'kd_tree','brute'],\n",
    "    \"weights\": ['uniform', 'distance'],\n",
    "    \"n_neighbors\": [3, 4, 5, 7, 9],\n",
    "}"
   ]
  },
  {
   "cell_type": "code",
   "execution_count": 207,
   "metadata": {},
   "outputs": [],
   "source": [
    "\n",
    "# Models list for Hyperparameter tuning\n",
    "randomcv_models = [\n",
    "    ('XGBoost', XGBClassifier(), xgboost_params),\n",
    "    (\"RF\", RandomForestClassifier(), rf_params),\n",
    "    (\"KNN\", KNeighborsClassifier(), knn_params)\n",
    "]"
   ]
  },
  {
   "cell_type": "code",
   "execution_count": 208,
   "metadata": {},
   "outputs": [
    {
     "name": "stderr",
     "output_type": "stream",
     "text": [
      "d:\\anaconda\\envs\\ml_genai\\lib\\site-packages\\sklearn\\model_selection\\_search.py:317: UserWarning: The total space of parameters 12 is smaller than n_iter=100. Running 12 iterations. For exhaustive searches, use GridSearchCV.\n",
      "  warnings.warn(\n"
     ]
    },
    {
     "name": "stdout",
     "output_type": "stream",
     "text": [
      "Fitting 3 folds for each of 12 candidates, totalling 36 fits\n"
     ]
    },
    {
     "name": "stderr",
     "output_type": "stream",
     "text": [
      "d:\\anaconda\\envs\\ml_genai\\lib\\site-packages\\sklearn\\model_selection\\_search.py:317: UserWarning: The total space of parameters 60 is smaller than n_iter=100. Running 60 iterations. For exhaustive searches, use GridSearchCV.\n",
      "  warnings.warn(\n"
     ]
    },
    {
     "name": "stdout",
     "output_type": "stream",
     "text": [
      "Fitting 3 folds for each of 60 candidates, totalling 180 fits\n"
     ]
    },
    {
     "name": "stderr",
     "output_type": "stream",
     "text": [
      "d:\\anaconda\\envs\\ml_genai\\lib\\site-packages\\sklearn\\model_selection\\_search.py:317: UserWarning: The total space of parameters 40 is smaller than n_iter=100. Running 40 iterations. For exhaustive searches, use GridSearchCV.\n",
      "  warnings.warn(\n"
     ]
    },
    {
     "name": "stdout",
     "output_type": "stream",
     "text": [
      "Fitting 3 folds for each of 40 candidates, totalling 120 fits\n",
      "---------------- Best Params for XGBoost -------------------\n",
      "{'min_child_weight': 1, 'max_depth': 5}\n",
      "---------------- Best Params for RF -------------------\n",
      "{'n_estimators': 200, 'max_features': 'sqrt', 'max_depth': 12}\n",
      "---------------- Best Params for KNN -------------------\n",
      "{'weights': 'distance', 'n_neighbors': 3, 'algorithm': 'auto'}\n"
     ]
    }
   ],
   "source": [
    "from sklearn.model_selection import RandomizedSearchCV\n",
    "\n",
    "model_param = {}\n",
    "for name, model, params in randomcv_models:\n",
    "    random = RandomizedSearchCV(estimator=model,\n",
    "                                   param_distributions=params,\n",
    "                                   n_iter=100,\n",
    "                                   cv=3,\n",
    "                                   verbose=2, \n",
    "                                   n_jobs=-1)\n",
    "    random.fit(X_train_re, y_train_re)\n",
    "    model_param[name] = random.best_params_\n",
    "\n",
    "for model_name in model_param:\n",
    "    print(f\"---------------- Best Params for {model_name} -------------------\")\n",
    "    print(model_param[model_name])"
   ]
  },
  {
   "cell_type": "code",
   "execution_count": 209,
   "metadata": {},
   "outputs": [
    {
     "data": {
      "text/plain": [
       "{'XGBoost': {'min_child_weight': 1, 'max_depth': 5},\n",
       " 'RF': {'n_estimators': 200, 'max_features': 'sqrt', 'max_depth': 12},\n",
       " 'KNN': {'weights': 'distance', 'n_neighbors': 3, 'algorithm': 'auto'}}"
      ]
     },
     "execution_count": 209,
     "metadata": {},
     "output_type": "execute_result"
    }
   ],
   "source": [
    "model_param"
   ]
  },
  {
   "cell_type": "code",
   "execution_count": 210,
   "metadata": {},
   "outputs": [
    {
     "name": "stdout",
     "output_type": "stream",
     "text": [
      "Model: Random Forest Classifier\n",
      "Training Performance:\n",
      "- Accuracy: 1.0000\n",
      "- F1 score: 1.0000\n",
      "- Precision: 1.0000\n",
      "- Recall: 1.0000\n",
      "- ROC AUC Score: 1.0000\n",
      "----------------------------------\n",
      "Test Performance:\n",
      "- Accuracy: 0.9916\n",
      "- F1 score: 0.9916\n",
      "- Precision: 0.9918\n",
      "- Recall: 0.9916\n",
      "- ROC AUC Score: 0.9995\n",
      "===================================\n",
      "Model: KNeighborsClassifier\n",
      "Training Performance:\n",
      "- Accuracy: 1.0000\n",
      "- F1 score: 1.0000\n",
      "- Precision: 1.0000\n",
      "- Recall: 1.0000\n",
      "- ROC AUC Score: 1.0000\n",
      "----------------------------------\n",
      "Test Performance:\n",
      "- Accuracy: 0.9832\n",
      "- F1 score: 0.9831\n",
      "- Precision: 0.9837\n",
      "- Recall: 0.9832\n",
      "- ROC AUC Score: 1.0000\n",
      "===================================\n",
      "Model: XGBClassifier\n",
      "Training Performance:\n",
      "- Accuracy: 1.0000\n",
      "- F1 score: 1.0000\n",
      "- Precision: 1.0000\n",
      "- Recall: 1.0000\n",
      "- ROC AUC Score: 1.0000\n",
      "----------------------------------\n",
      "Test Performance:\n",
      "- Accuracy: 0.9916\n",
      "- F1 score: 0.9916\n",
      "- Precision: 0.9918\n",
      "- Recall: 0.9916\n",
      "- ROC AUC Score: 0.9989\n",
      "===================================\n"
     ]
    }
   ],
   "source": [
    "from sklearn.metrics import roc_auc_score,roc_curve\n",
    "best_models = {\n",
    "    \"Random Forest Classifier\": RandomForestClassifier(**model_param['RF']),\n",
    "    \"KNeighborsClassifier\": KNeighborsClassifier(**model_param['KNN']),\n",
    "    \"XGBClassifier\": XGBClassifier(**model_param['XGBoost'],n_jobs=-1),\n",
    "}\n",
    "tuned_report =evaluate_models(X=X_train_re, y=y_train_re, models=best_models)"
   ]
  },
  {
   "cell_type": "code",
   "execution_count": 211,
   "metadata": {},
   "outputs": [
    {
     "data": {
      "text/html": [
       "<div>\n",
       "<style scoped>\n",
       "    .dataframe tbody tr th:only-of-type {\n",
       "        vertical-align: middle;\n",
       "    }\n",
       "\n",
       "    .dataframe tbody tr th {\n",
       "        vertical-align: top;\n",
       "    }\n",
       "\n",
       "    .dataframe thead th {\n",
       "        text-align: right;\n",
       "    }\n",
       "</style>\n",
       "<table border=\"1\" class=\"dataframe\">\n",
       "  <thead>\n",
       "    <tr style=\"text-align: right;\">\n",
       "      <th></th>\n",
       "      <th>Model Name</th>\n",
       "      <th>Accuracy</th>\n",
       "      <th>ROC AUC</th>\n",
       "    </tr>\n",
       "  </thead>\n",
       "  <tbody>\n",
       "    <tr>\n",
       "      <th>0</th>\n",
       "      <td>Random Forest Classifier</td>\n",
       "      <td>0.991597</td>\n",
       "      <td>0.999494</td>\n",
       "    </tr>\n",
       "    <tr>\n",
       "      <th>2</th>\n",
       "      <td>XGBClassifier</td>\n",
       "      <td>0.991597</td>\n",
       "      <td>0.998883</td>\n",
       "    </tr>\n",
       "    <tr>\n",
       "      <th>1</th>\n",
       "      <td>KNeighborsClassifier</td>\n",
       "      <td>0.983193</td>\n",
       "      <td>1.000000</td>\n",
       "    </tr>\n",
       "  </tbody>\n",
       "</table>\n",
       "</div>"
      ],
      "text/plain": [
       "                 Model Name  Accuracy   ROC AUC\n",
       "0  Random Forest Classifier  0.991597  0.999494\n",
       "2             XGBClassifier  0.991597  0.998883\n",
       "1      KNeighborsClassifier  0.983193  1.000000"
      ]
     },
     "execution_count": 211,
     "metadata": {},
     "output_type": "execute_result"
    }
   ],
   "source": [
    "tuned_report"
   ]
  },
  {
   "cell_type": "code",
   "execution_count": 212,
   "metadata": {},
   "outputs": [
    {
     "name": "stdout",
     "output_type": "stream",
     "text": [
      "FINAL MODEL 'XGBoost'\n",
      "Accuracy Score value: 0.8239\n",
      "              precision    recall  f1-score   support\n",
      "\n",
      "           0       0.87      0.81      0.84        84\n",
      "           1       0.74      0.86      0.80        59\n",
      "           2       1.00      0.75      0.86        16\n",
      "\n",
      "    accuracy                           0.82       159\n",
      "   macro avg       0.87      0.81      0.83       159\n",
      "weighted avg       0.84      0.82      0.83       159\n",
      "\n"
     ]
    }
   ],
   "source": [
    "from sklearn.metrics import classification_report\n",
    "best_model = XGBClassifier(**model_param['XGBoost'])\n",
    "best_model = best_model.fit(X_train,y_train)\n",
    "y_pred = best_model.predict(X_test)\n",
    "score = accuracy_score(y_test,y_pred)\n",
    "cr = classification_report(y_test,y_pred)\n",
    "\n",
    "print(\"FINAL MODEL 'XGBoost'\")\n",
    "print (\"Accuracy Score value: {:.4f}\".format(score))\n",
    "print (cr)"
   ]
  },
  {
   "cell_type": "code",
   "execution_count": 213,
   "metadata": {},
   "outputs": [
    {
     "data": {
      "text/plain": [
       "<sklearn.metrics._plot.confusion_matrix.ConfusionMatrixDisplay at 0x27aa879a020>"
      ]
     },
     "execution_count": 213,
     "metadata": {},
     "output_type": "execute_result"
    },
    {
     "data": {
      "image/png": "[encoded data removed]",
      "text/plain": [
       "<Figure size 640x480 with 2 Axes>"
      ]
     },
     "metadata": {},
     "output_type": "display_data"
    }
   ],
   "source": [
    "from sklearn.metrics import ConfusionMatrixDisplay\n",
    "ConfusionMatrixDisplay.from_estimator(best_model, X_test, y_test)"
   ]
  },
  {
   "cell_type": "code",
   "execution_count": 214,
   "metadata": {},
   "outputs": [],
   "source": [
    "from langchain_groq import ChatGroq\n",
    "from langchain.chains import create_retrieval_chain,LLMChain,RetrievalQA\n",
    "from langchain_community.document_loaders import PyPDFLoader\n",
    "from langchain.text_splitter import RecursiveCharacterTextSplitter\n",
    "from langchain_huggingface.embeddings import HuggingFaceEmbeddings\n",
    "from langchain.chains.combine_documents import create_stuff_documents_chain\n",
    "from langchain.prompts import ChatPromptTemplate,PromptTemplate\n",
    "from langchain_community.vectorstores import FAISS\n",
    "import os\n",
    "from dotenv import load_dotenv"
   ]
  },
  {
   "cell_type": "code",
   "execution_count": 215,
   "metadata": {},
   "outputs": [],
   "source": [
    "load_dotenv()\n",
    "GROQ_API_KEY = os.getenv(\"GROQ_API_KEY\")"
   ]
  },
  {
   "cell_type": "code",
   "execution_count": 216,
   "metadata": {},
   "outputs": [],
   "source": [
    "prompt_template = PromptTemplate(\n",
    "    input_variables=[\"input_data\", \"prediction\"],\n",
    "    template=\"\"\"\n",
    "    You are a Mental Health Risk Medical Assistant. Your role is to explain why a specific risk level (2 is High, 1 is Middle, or 0 is Low) was predicted based on the user's input and provide simple, actionable suggestions to address it. Use easy-to-understand language and focus on the most relevant factors contributing to the risk level.\n",
    "\n",
    "    ### **Patient Data & Risk Level Prediction:**\n",
    "    - Input Data: {input_data}\n",
    "    - Predicted Risk Level: {prediction}\n",
    "\n",
    "    ### **Steps to Follow:**\n",
    "    1. **Explain the Risk Level**: Briefly describe why the user's input led to the predicted risk level. Highlight the most significant factors (Age, SystolicBP, DiastolicBP, BS, BodyTemp, HeartRate) that contributed to the prediction.\n",
    "    2. **Provide Suggestions**: Offer clear, practical, and personalized recommendations based on the risk level. Include food suggestions, entertainment ideas, if the user is at High or Middle risk. If the user is at Low risk, provide a positive greeting and general wellness tips.\n",
    "\n",
    "    ### **Example Format:**\n",
    "    - **Risk Level**: [High/Middle/Low]\n",
    "    - **Why This Happened**: [Brief explanation of the risk factors.]\n",
    "    - **Suggestions**: [Actionable steps, food suggestions]\n",
    "\n",
    "    ### **Response:**\n",
    "    \"\"\"\n",
    ")\n",
    "llm = ChatGroq(temperature=0.5, groq_api_key=GROQ_API_KEY, model_name=\"mixtral-8x7b-32768\")"
   ]
  },
  {
   "cell_type": "code",
   "execution_count": null,
   "metadata": {},
   "outputs": [
    {
     "name": "stdout",
     "output_type": "stream",
     "text": [
      "Prediction: [0]\n",
      "**Risk Level:** [0] - Low\n",
      "\n",
      "**Why This Happened:** Your input data indicates a low risk level. Your age, blood pressure, blood sugar, body temperature, and heart rate are within normal ranges. This is a positive sign!\n",
      "\n",
      "**Suggestions:** Keep up the great work! To maintain your well-being, consider incorporating these general wellness tips into your daily routine:\n",
      "\n",
      "1. Stay hydrated by drinking at least 8 glasses of water a day.\n",
      "2. Aim for at least 30 minutes of moderate physical activity, such as walking or cycling, most days of the week.\n",
      "3. Get 7-8 hours of sleep each night.\n",
      "4. Practice stress management techniques like deep breathing, meditation, or yoga.\n",
      "5. Enjoy a balanced diet with plenty of fruits, vegetables, lean proteins, and whole grains.\n",
      "\n",
      "Keep in mind that these are general suggestions, and it's always a good idea to consult with a healthcare professional for personalized advice. Have a wonderful day!\n"
     ]
    }
   ],
   "source": [
    "import pandas as pd\n",
    "from sklearn.compose import ColumnTransformer\n",
    "from sklearn.preprocessing import StandardScaler\n",
    "from sklearn.ensemble import RandomForestClassifier  \n",
    "import joblib\n",
    "\n",
    "\n",
    "column_names = ['Age', 'SystolicBP', 'DiastolicBP', 'BS', 'BodyTemp', 'HeartRate']\n",
    "\n",
    "\n",
    "input_data = [[35,120,60,6.1,98,76]]  \n",
    "\n",
    "\n",
    "input_data_df = pd.DataFrame(input_data, columns=column_names)\n",
    "\n",
    "preprocessor = joblib.load('preprocess.pkl')  \n",
    "best_model = joblib.load('model.pkl')   \n",
    "rag_chain = LLMChain(llm=llm, prompt=prompt_template)\n",
    "\n",
    "input_data_processed = preprocessor.transform(input_data_df)\n",
    "\n",
    "\n",
    "prediction = best_model.predict(input_data_processed)\n",
    "\n",
    "\n",
    "print(\"Prediction:\", prediction)\n",
    "response = rag_chain.invoke({\"input_data\": input_data, \"prediction\": prediction})\n",
    "print(response[\"text\"])\n"
   ]
  },
  {
   "cell_type": "code",
   "execution_count": null,
   "metadata": {},
   "outputs": [],
   "source": []
  }
 ],
 "metadata": {
  "kernelspec": {
   "display_name": "ml_genai",
   "language": "python",
   "name": "python3"
  },
  "language_info": {
   "codemirror_mode": {
    "name": "ipython",
    "version": 3
   },
   "file_extension": ".py",
   "mimetype": "text/x-python",
   "name": "python",
   "nbconvert_exporter": "python",
   "pygments_lexer": "ipython3",
   "version": "3.10.16"
  }
 },
 "nbformat": 4,
 "nbformat_minor": 2
}
